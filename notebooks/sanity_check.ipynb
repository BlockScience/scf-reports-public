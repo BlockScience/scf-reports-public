{
 "cells": [
  {
   "cell_type": "markdown",
   "metadata": {},
   "source": [
    "# Sanity Checking the NQG simulation\n",
    "\n",
    "This notebook performs a simulation run with the default parameter set\n",
    "for a single run. It is meant to provide quick diagnostics on the model\n",
    "capabilities.\n",
    "\n",
    "There are four parts for this notebook:\n",
    "- Part 1. Dependences & Set-up\n",
    "- Part 2. Simulation set-up & execution\n",
    "- Part 3. Compute Metrics\n",
    "- Part 4. Compute Trust & Delegation Graph"
   ]
  },
  {
   "cell_type": "markdown",
   "metadata": {},
   "source": [
    "## Part 1. Dependences & Set-up\n",
    "\n",
    "On this step, we'll import all required libraries and perform any required assumption."
   ]
  },
  {
   "cell_type": "code",
   "execution_count": null,
   "metadata": {},
   "outputs": [],
   "source": [
    "import sys\n",
    "sys.path.append('../')\n",
    "\n",
    "import os\n",
    "\n",
    "import numpy as np\n",
    "import pandas as pd\n",
    "from collections import defaultdict\n",
    "\n",
    "import colorsys\n",
    "import networkx as nx\n",
    "import matplotlib\n",
    "import matplotlib.pyplot as plt\n",
    "import plotly.express as px\n",
    "import plotly.io as pio\n",
    "from netgraph import Graph\n",
    "from nqg_model.types import *\n",
    "\n",
    "\n",
    "from cadCAD_tools import easy_run\n",
    "\n",
    "pio.renderers.default = \"png\" # For GitHub rendering"
   ]
  },
  {
   "cell_type": "markdown",
   "metadata": {},
   "source": [
    "## Part 2. Simulation set-up & execution"
   ]
  },
  {
   "cell_type": "markdown",
   "metadata": {},
   "source": [
    "On this step, we'll setup the simulation with the default run parameters\n",
    "and execute it."
   ]
  },
  {
   "cell_type": "code",
   "execution_count": null,
   "metadata": {},
   "outputs": [],
   "source": [
    "from nqg_model.params import INITIAL_STATE\n",
    "from nqg_model.params import SINGLE_RUN_PARAMS\n",
    "from nqg_model.params import TIMESTEPS\n",
    "from nqg_model.params import SAMPLES\n",
    "from nqg_model.structure import NQG_MODEL_BLOCKS\n",
    "\n",
    "default_run_args = (INITIAL_STATE,\n",
    "                     {k: [v] for k, v in SINGLE_RUN_PARAMS.items()},\n",
    "                    NQG_MODEL_BLOCKS,\n",
    "                    TIMESTEPS,\n",
    "                    SAMPLES)\n",
    "sim_df = easy_run(*default_run_args, assign_params=False).set_index('days_passed')"
   ]
  },
  {
   "cell_type": "code",
   "execution_count": null,
   "metadata": {},
   "outputs": [],
   "source": [
    "sim_df.head(5)"
   ]
  },
  {
   "cell_type": "code",
   "execution_count": null,
   "metadata": {},
   "outputs": [],
   "source": [
    "sim_df.columns"
   ]
  },
  {
   "cell_type": "markdown",
   "metadata": {},
   "source": [
    "## Part 3. Compute Metrics\n",
    "\n",
    "On this step, we'll extract temporal metrics that are derivated\n",
    "from the generated dataset and visualize them over time"
   ]
  },
  {
   "cell_type": "code",
   "execution_count": null,
   "metadata": {},
   "outputs": [],
   "source": [
    "from nqg_model.types import ProjectAction\n",
    "# Global metrics\n",
    "\n",
    "\n",
    "def count_actions(action_matrix: ActionMatrix, action_key: ProjectAction) -> int:\n",
    "    return sum(sum(1 \n",
    "                        for project, project_action \n",
    "                        in project_actions.items() \n",
    "                        if project_action == action_key) \n",
    "                   for user, project_actions \n",
    "                   in action_matrix.items())\n",
    "\n",
    "metrics = {\n",
    "    'n_users': lambda row: len(row.users),\n",
    "    'n_quorums': lambda row: len(row.delegatees),\n",
    "    'n_roundvotes': lambda row: count_actions(row.action_matrix, ProjectAction.Vote),\n",
    "    'n_delegations': lambda row: count_actions(row.action_matrix, ProjectAction.Delegate),\n",
    "    'n_abstains': lambda row: count_actions(row.action_matrix, ProjectAction.Abstain),\n",
    "    'avg_trustees_per_user': lambda row: sum(len(l) for l in row.trustees.values()) / len(row.trustees) if len(row.trustees) > 0 else 0.0,\n",
    "    'avg_delegatees_per_user': lambda row: sum(len(l) for l in row.delegatees.values()) / len(row.delegatees) if len(row.delegatees) > 0 else 0.0,\n",
    "}\n",
    "\n",
    "new_df = sim_df.apply(metrics.values(), axis='columns')\n",
    "new_df.columns = list(metrics.keys())\n",
    "\n",
    "new_df[['n_users', 'n_quorums']].plot(xlabel='Days Passed', ylabel='Quantity', title='User Statistics')\n",
    "plt.show()\n",
    "\n",
    "new_df[['n_roundvotes', 'n_delegations', 'n_abstains']].plot(xlabel='Days Passed', ylabel='Quantity', title='User Statistics')\n",
    "plt.show()\n",
    "\n",
    "\n",
    "new_df[['avg_trustees_per_user', 'avg_delegatees_per_user']].plot(xlabel='Days Passed', ylabel='Quantity', title='User Statistics')\n",
    "plt.show()"
   ]
  },
  {
   "cell_type": "markdown",
   "metadata": {},
   "source": []
  },
  {
   "cell_type": "code",
   "execution_count": null,
   "metadata": {},
   "outputs": [],
   "source": [
    "# Per project metrics\n",
    "\n",
    "per_proj_votes = sim_df.per_project_voting.apply(pd.Series).dropna()\n",
    "per_proj_votes.plot(title='Vote Power per Project', xlabel='Days Passed', ylabel='Power')\n",
    "plt.show()"
   ]
  },
  {
   "cell_type": "markdown",
   "metadata": {},
   "source": [
    "## Part 4. Compute Trust & Delegation Graph\n",
    "\n",
    "On this step, we will instatiate the Trust & Delegation graph for each\n",
    "point on time and visualize them"
   ]
  },
  {
   "cell_type": "code",
   "execution_count": null,
   "metadata": {},
   "outputs": [],
   "source": [
    "def render_trust_delegation_graphs(i):\n",
    "    t = sim_df.iloc[i].name\n",
    "    trust_graph_per_day = sim_df.trustees.map(nx.DiGraph)\n",
    "    delegatee_graph_per_day = sim_df.delegatees.map(nx.DiGraph)\n",
    "\n",
    "    def sample_colors_from_hue(N):\n",
    "        import colorsys\n",
    "        HSV_tuples = [(x*1.0/N, 1.0, 0.8) for x in range(N)]\n",
    "        RGB_tuples = map(lambda x: colorsys.hsv_to_rgb(*x), HSV_tuples)\n",
    "        return list(RGB_tuples)\n",
    "\n",
    "    cmap = matplotlib.colormaps['BrBG']\n",
    "\n",
    "    def render_graph(G, \n",
    "                    weights,\n",
    "                    K=1, \n",
    "                    q=1, \n",
    "                    title=\"\", \n",
    "                    a=1, \n",
    "                    node_color=None,\n",
    "                    edge_color=None,\n",
    "                    edge_alpha=0.5,\n",
    "                    edge_width=0.1,\n",
    "                    **kwargs):\n",
    "        sizes = {k: a + K * v ** q for k, v in weights.items()}\n",
    "        if node_color is None:\n",
    "            node_color = {k: cmap(i / len(weights)) for i, k in enumerate(sorted(weights.keys()))}\n",
    "        else:\n",
    "            pass\n",
    "        fig = plt.figure(figsize=(10, 2), dpi=200) \n",
    "        ax = fig.add_subplot(1, 1, 1)\n",
    "        g = Graph(G, \n",
    "                ax=ax,\n",
    "                node_size=sizes,\n",
    "                node_edge_width=0,\n",
    "                edge_width=edge_width,\n",
    "                node_color=node_color,\n",
    "                edge_alpha=edge_alpha,\n",
    "                edge_color=edge_color,\n",
    "                **kwargs)\n",
    "        ax.set_facecolor(colorsys.hsv_to_rgb(0.0, 0.0, 0.9))\n",
    "        fig.set_facecolor(colorsys.hsv_to_rgb(0.0, 0.0, 0.9))\n",
    "        plt.title(title, fontname='Helvetica')\n",
    "        plt.show()\n",
    "\n",
    "\n",
    "    G = trust_graph_per_day.iloc[i]\n",
    "    weights = sim_df.iloc[i].oracle_state.pagerank_results\n",
    "    render_graph(G, \n",
    "                weights, \n",
    "                K=20, \n",
    "                q=0.5, \n",
    "                a=0, \n",
    "                title=f\"Trust Graph at day {t:.0f}\",\n",
    "                edge_layout='curved',\n",
    "                node_layout='spring',\n",
    "                edge_width=0.1,\n",
    "                arrows=True,\n",
    "                scale=(4,1))\n",
    "\n",
    "    G = delegatee_graph_per_day.iloc[i]\n",
    "    weights = {k: 0 for k in G.nodes}\n",
    "    weights |= {k: len(v) * 0.2 for k, v in sim_df.iloc[i].delegatees.items()}\n",
    "    quorums = sim_df.iloc[i].delegatees\n",
    "    source_color_map = {k: matplotlib.colormaps['tab10'](i/len(quorums))\n",
    "                        for i, k in enumerate(quorums.keys())}\n",
    "    edge_color = {(a,b): source_color_map[a] for (a, b) in G.edges}\n",
    "    render_graph(G, weights, \n",
    "                K=0, \n",
    "                q=1, \n",
    "                a=2, \n",
    "                title=f'Delegation Graph at day {t:.0f}', \n",
    "                edge_color=edge_color,\n",
    "                edge_width=1.0,\n",
    "                edge_alpha=0.9,\n",
    "                arrows=True,\n",
    "                edge_layout='curved',\n",
    "                node_layout='spring',\n",
    "                scale=(4,1))"
   ]
  },
  {
   "cell_type": "markdown",
   "metadata": {},
   "source": [
    "### Visualizing the Trust & Delegation Graphs\n",
    "\n",
    "On the following visualizations, we have the following definitions:\n",
    "\n",
    "- Node colors are assigned such that older users are dark brown and newer users are dark green.\n",
    "- The size of the nodes on the trust graph are proportional to the trust bonus\n",
    "- The colors of the edges on the delegation graph are equal for a given quorum"
   ]
  },
  {
   "cell_type": "code",
   "execution_count": null,
   "metadata": {},
   "outputs": [],
   "source": [
    "render_trust_delegation_graphs(10)"
   ]
  },
  {
   "cell_type": "code",
   "execution_count": null,
   "metadata": {},
   "outputs": [],
   "source": [
    "render_trust_delegation_graphs(25)"
   ]
  },
  {
   "cell_type": "code",
   "execution_count": null,
   "metadata": {},
   "outputs": [],
   "source": [
    "render_trust_delegation_graphs(-1)"
   ]
  }
 ],
 "metadata": {
  "kernelspec": {
   "display_name": "base",
   "language": "python",
   "name": "python3"
  },
  "language_info": {
   "codemirror_mode": {
    "name": "ipython",
    "version": 3
   },
   "file_extension": ".py",
   "mimetype": "text/x-python",
   "name": "python",
   "nbconvert_exporter": "python",
   "pygments_lexer": "ipython3",
   "version": "3.11.5"
  }
 },
 "nbformat": 4,
 "nbformat_minor": 2
}
