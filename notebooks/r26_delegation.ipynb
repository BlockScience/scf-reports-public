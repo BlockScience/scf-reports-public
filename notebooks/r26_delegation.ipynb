{
 "cells": [
  {
   "cell_type": "markdown",
   "metadata": {},
   "source": [
    "# Extended Report on the Stellar Community Fund, Round 26\n",
    "\n",
    "*BlockScience, February 2024* \n",
    "\n",
    "## Introduction\n",
    "In 2023, the Stellar Community Fund (SCF) and BlockScience (BSci) collaborated on ideating and implementing a novel governance mechanism, titled Neural Quorum Governance. Following this initial phase, we are now monitoring and evaluating this mechanism through per-round reports. This allows the community to better inform themselves about the dynamics and effects of this voting mechanism, informing discussions on changes and adaptations. Eventually, the community is expected to take over both the governance mechanism, as well as any analytic means necessary to conduct sustainable and informed community governance. \n",
    "\n",
    "Starting with round 22, this report introduces a two part structure through both a descriptive and a counterfactual analysis of each round. While the descriptive part serves to describe and visualize observed outcomes, the counterfactual part serves to inform about \"what-ifs\". In this second section, we will use our cadCAD model of the NQG mechanism to simulate hypothetical outcomes, such as through adaptation of parameters, active neurons and more. This allows the community to make informed decisions about future changes, before having to implement them in production settings.  \n",
    "\n",
    "\n",
    "### Terminology Notes\n",
    "Users can be divided into three categories (per project and round):\n",
    "* Active Users (actively vote for their own choice)\n",
    "* Delegating Users (delegate their voting choice to a Quorum of other users)\n",
    "* Inactive Users (refrain from voting or delegating)"
   ]
  },
  {
   "cell_type": "markdown",
   "metadata": {},
   "source": [
    "---"
   ]
  },
  {
   "cell_type": "markdown",
   "metadata": {},
   "source": [
    "## Methodology\n",
    "\n",
    "This section outlines the methodology employed in integrating user votes, delegation/trust data, reputation, and user voting history data into a cadCAD digital twin simulation, backtesting the data on actual project scores, and running counterfactual scenarios. The study aimed to explore the impact of different voting and governance mechanisms on project outcomes within the Stellar Community Fund (SCF).\n",
    "\n",
    "### Digital Twin Simulation\n",
    "\n",
    "1) **Integration of Data into cadCAD** : We utilized the cadCAD (complex adaptive dynamics Computer-Aided Design) simulation environment to create a digital twin of the SCF's voting ecosystem. This involved integrating various datasets:\n",
    "    - User votes: Records of individual votes cast by users for each project.\n",
    "    - Delegation/Trust Data: Data representing the delegation of votes and the trust relationships among users.\n",
    "    - Reputation/ Voting History Data: Historical data of users’ voting behavior within the SCF community.\n",
    "\n",
    "2) **Modeling of Scenarios with distinct Voting Mechanisms**: The cadCAD model was designed to replicate the NQG (Neural Quorum Governance) along with running counterfactual scenarios for standard voting,  Neural Governance without Quorum Delegation, and Quorum Delegation wihout Neural Governance mechanisms.\n",
    "\n",
    "### Backtesting with Actual Project Scores\n",
    "1) **Data Sourcing**: Actual project scores from round 22 were sourced to serve as a benchmark for our simulations.\n",
    "\n",
    "2) **Backtesting Process**: The integrated cadCAD model was backtested against these actual scores. This process involved running the model with historical data to see how closely the simulation could replicate actual outcomes. This backtesting provided a basis for validating the model's accuracy and reliability.\n",
    "\n",
    "### Running Counterfactual Scenarios\n",
    "1) **Scenario Design**: To understand the impact of different governance mechanisms, we designed several counterfactual scenarios:\n",
    "\n",
    "    - 1 person, 1 vote: Simulating voting outcomes in the absence of the Neural Quorum Governance mechanism assuming 1 person 1 vote.\n",
    "    - NG without QD: Analyzing the effects of Neural Governance when Quorum Delegation is not a factor by assuming every delegation vote as an abstain vote.\n",
    "    - QD without NG: Observing outcomes where Quorum Delegation is applied without the influence of Neural Governance.\n",
    "\n",
    "2) **Comparative Analysis**: The results from these counterfactual scenarios were compared against each other and the backtested results. This comparative analysis aimed to discern the distinct impacts of NQG, NG, and QD on project rankings and community dynamics.\n"
   ]
  },
  {
   "cell_type": "markdown",
   "metadata": {},
   "source": [
    "## Loading data"
   ]
  },
  {
   "cell_type": "markdown",
   "metadata": {},
   "source": [
    "### Imports"
   ]
  },
  {
   "cell_type": "code",
   "execution_count": null,
   "metadata": {
    "jupyter": {
     "source_hidden": true
    }
   },
   "outputs": [],
   "source": [
    "from datetime import datetime\n",
    "import pandas as pd\n",
    "import sys\n",
    "sys.path.append('../')\n",
    "import plotly.io as pio\n",
    "pio.renderers.default = \"png\"\n"
   ]
  },
  {
   "cell_type": "markdown",
   "metadata": {},
   "source": [
    "### Reading the voting data into a dataframe"
   ]
  },
  {
   "cell_type": "code",
   "execution_count": null,
   "metadata": {
    "jupyter": {
     "source_hidden": true
    }
   },
   "outputs": [],
   "source": [
    "round_no = 26\n",
    "\n",
    "from nqg_model.experiment import full_historical_data_run_plus_counterfactual\n",
    "sim_df, df = full_historical_data_run_plus_counterfactual(folder_path=f'../data/r{round_no}/', round_no=round_no)\n",
    "# sim_df.to_pickle('../data/r23/sim_df.pkl')"
   ]
  },
  {
   "cell_type": "code",
   "execution_count": null,
   "metadata": {},
   "outputs": [],
   "source": [
    "from nqg_model.types import User, ProjectUUID, UserUUID, ActionMatrix, VoteDecisionMatrix, Vote, ProjectAction\n",
    "from typing import Optional, NamedTuple\n",
    "\n",
    "def quorum_delegation_results(user: UserUUID,\n",
    "                              user_quorum: set[UserUUID],\n",
    "                              project: ProjectUUID,\n",
    "                              action_matrix: ActionMatrix,\n",
    "                              vote_decision_matrix: VoteDecisionMatrix) -> Optional[dict[UserUUID | str, str]]:\n",
    "    \n",
    "\n",
    "    if action_matrix.get(user, {}).get(project, ProjectAction.Abstain) == ProjectAction.Delegate:\n",
    "        output = {}\n",
    "        output[f'Quorum Result'] = vote_decision_matrix[user][project]\n",
    "\n",
    "        for uid in user_quorum:\n",
    "            output[uid] = vote_decision_matrix.get(uid, {}).get(project, Vote.Undefined)\n",
    "        return output\n",
    "    else:\n",
    "        return None\n",
    "\n",
    "\n",
    "\n",
    "row = sim_df.iloc[1]\n",
    "\n",
    "delegatees = row.delegatees\n",
    "vote_decision_matrix = row.vote_decision_matrix\n",
    "action_matrix = row.action_matrix\n",
    "\n",
    "projects = set()\n",
    "for vd in vote_decision_matrix.values():\n",
    "    projects |= set(vd)\n",
    "projects = list(projects)\n",
    "\n",
    "user = next(iter(delegatees))\n",
    "user_quorum = delegatees[user]\n",
    "project = projects[0]\n",
    "\n",
    "\n",
    "\n",
    "\n",
    "\n",
    "class QuorumDelegationResultRecord(NamedTuple):\n",
    "    delegating_user: UserUUID\n",
    "    submission: ProjectUUID\n",
    "    delegatee: UserUUID\n",
    "    outcome: Vote | str\n",
    "\n",
    "records: list[QuorumDelegationResultRecord] = []\n",
    "\n",
    "for user, user_quorum in delegatees.items():\n",
    "    for project in projects:\n",
    "        results = quorum_delegation_results(user, user_quorum, project, action_matrix, vote_decision_matrix)\n",
    "        if results is not None:\n",
    "            new_records = [\n",
    "                QuorumDelegationResultRecord(user, project, uid, vote.__str__().split(\".\")[-1]) for uid, vote in results.items()\n",
    "            ]\n",
    "            for r in new_records:\n",
    "                records.append(r)\n",
    "        else:\n",
    "            pass\n",
    "\n",
    "# qd_df = pd.DataFrame(records).set_index(['delegating_user', 'submission', 'delegatee'])\n",
    "qd_df = pd.DataFrame(records)\n",
    "\n",
    "\n",
    "\n",
    "# qd_df['outcome'] = qd_df.outcome.map({'Yes': \"Yes/No\", 'No': 'Yes/No', 'Undefined': \"Didn't Vote\", 'Abstain': 'Abstain'})\n",
    "qd_df['outcome'] = qd_df.outcome.map({'Yes': \"Yes\", 'No': 'No', 'Undefined': \"Didn't Vote\", 'Abstain': 'Abstain'})"
   ]
  },
  {
   "cell_type": "code",
   "execution_count": null,
   "metadata": {},
   "outputs": [],
   "source": [
    "str(datetime.now())"
   ]
  },
  {
   "cell_type": "code",
   "execution_count": null,
   "metadata": {},
   "outputs": [],
   "source": [
    "# qd_df.to_csv(f'../data/r25/sim_results/qd_results_{datetime.now()}.csv')\n",
    "# qd_df.to_csv(f'../data/r26/sim_results/qd_results_.csv')\n",
    "\n",
    "# datacleaning\n",
    "\n",
    "# anonymize delegatees\n",
    "qd_df.loc[~qd_df['delegatee'].isin(['Quorum Result', 'delegatee']), 'delegatee'] = 'Delegate'\n",
    "# change outcome value text based on whether its a quorum result or not\n",
    "qd_df.loc[(qd_df['delegatee'] == 'Quorum Result') & (qd_df['outcome'] == 'Abstain'), 'outcome'] = 'Mapped to Abstain'\n",
    "qd_df.loc[(qd_df['delegatee'] == 'Quorum Result') & (qd_df['outcome'] == 'Yes'), 'outcome'] = 'Mapped to Yes'\n",
    "qd_df.loc[(qd_df['delegatee'] == 'Quorum Result') & (qd_df['outcome'] == 'No'), 'outcome'] = 'Mapped to No'\n",
    "qd_df.loc[(qd_df['delegatee'] != 'Quorum Result') & (qd_df['outcome'] == 'Abstain'), 'outcome'] = \"Didn't Vote\"\n",
    "qd_df.loc[(qd_df['delegatee'] != 'Quorum Result') & (qd_df['outcome'] == 'Yes'), 'outcome'] = 'Voted Yes/No'\n",
    "qd_df.loc[(qd_df['delegatee'] != 'Quorum Result') & (qd_df['outcome'] == 'No'), 'outcome'] = 'Voted Yes/No'"
   ]
  },
  {
   "cell_type": "code",
   "execution_count": null,
   "metadata": {},
   "outputs": [],
   "source": [
    "qd_df.to_csv(f'../data/r{round_no}/sim_results/qd_results_cleaned_final.csv', index=False)"
   ]
  },
  {
   "cell_type": "code",
   "execution_count": null,
   "metadata": {},
   "outputs": [],
   "source": [
    "neuron_power_tensor_df =sim_df[['neuron_power_tensor','label']]\n",
    "neuron_power_tensor = neuron_power_tensor_df[neuron_power_tensor_df['label']=='backtesting'].values[1][0]"
   ]
  },
  {
   "cell_type": "code",
   "execution_count": null,
   "metadata": {},
   "outputs": [],
   "source": [
    "mean_neuron_power = neuron_power_tensor.mean(dim='project')\n",
    "\n",
    "# Create DataFrame with user as index and layer-neuron as columns\n",
    "df = mean_neuron_power.to_dataframe('power').unstack(['layer', 'neuron'])"
   ]
  },
  {
   "cell_type": "code",
   "execution_count": null,
   "metadata": {},
   "outputs": [],
   "source": [
    "df2 = pd.DataFrame()"
   ]
  },
  {
   "cell_type": "code",
   "execution_count": null,
   "metadata": {},
   "outputs": [],
   "source": [
    "df2['TrustNeuronValue'] = df['power']['layer_0']['trust_score']\n",
    "df2['ReputationNeuronValue'] = df['power']['layer_0']['reputation_score']\n",
    "df2['Layer1Output'] = df2['TrustNeuronValue'] + df2['ReputationNeuronValue']\n",
    "df2['PastVoteNeuronValue'] = df['power']['layer_1']['past_round']\n",
    "df2['Layer2Output'] = df2['PastVoteNeuronValue']"
   ]
  },
  {
   "cell_type": "code",
   "execution_count": null,
   "metadata": {},
   "outputs": [],
   "source": [
    "df2.sort_values('user', inplace=True, ascending=True)\n",
    "df2.reset_index(inplace=True)"
   ]
  },
  {
   "cell_type": "code",
   "execution_count": null,
   "metadata": {},
   "outputs": [],
   "source": [
    "df2.to_csv(f'../data/r{round_no}/sim_results/neuron_power_by_user.csv', index=False)"
   ]
  }
 ],
 "metadata": {
  "kernelspec": {
   "display_name": "Python 3 (ipykernel)",
   "language": "python",
   "name": "python3"
  },
  "language_info": {
   "codemirror_mode": {
    "name": "ipython",
    "version": 3
   },
   "file_extension": ".py",
   "mimetype": "text/x-python",
   "name": "python",
   "nbconvert_exporter": "python",
   "pygments_lexer": "ipython3",
   "version": "3.10.13"
  }
 },
 "nbformat": 4,
 "nbformat_minor": 4
}
