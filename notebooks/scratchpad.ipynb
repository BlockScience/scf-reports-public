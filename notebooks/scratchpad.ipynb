{
 "cells": [
  {
   "cell_type": "code",
   "execution_count": null,
   "metadata": {},
   "outputs": [],
   "source": [
    "\n",
    "import matplotlib.pyplot as plt\n",
    "import numpy as np\n",
    "\n",
    "# Parameters\n",
    "W_max = 1\n",
    "lambda_ = 0.5\n",
    "rounds = np.arange(1, 10)\n",
    "\n",
    "# Calculate weights\n",
    "weights = W_max * (1 - np.exp(-lambda_ * rounds))\n",
    "\n",
    "# Plot\n",
    "plt.plot(rounds + 22, weights, marker='o')\n",
    "plt.xlabel('Round Number')\n",
    "plt.ylabel('Voting Weight')\n",
    "plt.title('Exponential Voting Weight Curve')\n",
    "plt.grid(True)\n",
    "plt.show()"
   ]
  },
  {
   "cell_type": "code",
   "execution_count": null,
   "metadata": {},
   "outputs": [],
   "source": [
    "weights"
   ]
  },
  {
   "cell_type": "code",
   "execution_count": null,
   "metadata": {},
   "outputs": [],
   "source": [
    "rounds"
   ]
  },
  {
   "cell_type": "code",
   "execution_count": null,
   "metadata": {},
   "outputs": [],
   "source": [
    "def calc_past_voting_learning_curve_map(first_round_scored, current_round, W_max, lambda_):\n",
    "    W_max = 1\n",
    "    P_max = 3\n",
    "    labmda_ = 0.5\n",
    "    current_round = 26\n",
    "    first_round_scored = 21\n",
    "\n",
    "    rounds = np.arange(first_round_scored,current_round)\n",
    "    weights = {round: (W_max * (1 - np.exp(-lambda_ * (round +1- first_round_scored)))) for round in rounds}\n",
    "    return weights"
   ]
  },
  {
   "cell_type": "code",
   "execution_count": null,
   "metadata": {},
   "outputs": [],
   "source": [
    "{round: 1 for round in rounds}"
   ]
  },
  {
   "cell_type": "code",
   "execution_count": null,
   "metadata": {},
   "outputs": [],
   "source": []
  }
 ],
 "metadata": {
  "celltoolbar": "Tags",
  "kernelspec": {
   "display_name": "Python 3 (ipykernel)",
   "language": "python",
   "name": "python3"
  },
  "language_info": {
   "codemirror_mode": {
    "name": "ipython",
    "version": 3
   },
   "file_extension": ".py",
   "mimetype": "text/x-python",
   "name": "python",
   "nbconvert_exporter": "python",
   "pygments_lexer": "ipython3",
   "version": "3.10.13"
  }
 },
 "nbformat": 4,
 "nbformat_minor": 2
}
